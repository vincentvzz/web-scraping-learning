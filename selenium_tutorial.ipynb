{
 "cells": [
  {
   "cell_type": "code",
   "execution_count": 33,
   "metadata": {},
   "outputs": [],
   "source": [
    "from selenium import webdriver\n",
    "from selenium.webdriver.common.keys import Keys\n",
    "from selenium.webdriver.common.by import By\n",
    "from selenium.webdriver.support.ui import WebDriverWait\n",
    "from selenium.webdriver.support import expected_conditions as EC\n",
    "from selenium.webdriver.common.action_chains import ActionChains\n",
    "\n",
    "import time"
   ]
  },
  {
   "cell_type": "code",
   "execution_count": 10,
   "metadata": {},
   "outputs": [],
   "source": [
    "DRIVER_PATH = \"./driver/chromedriver\""
   ]
  },
  {
   "cell_type": "code",
   "execution_count": null,
   "metadata": {},
   "outputs": [],
   "source": [
    "# Search for elements: first id, then name, then class\n",
    "driver = webdriver.Chrome(executable_path=DRIVER_PATH)\n",
    "driver.get(\"https://techwithtim.net\")\n",
    "\n",
    "search = driver.find_element_by_name(\"s\")\n",
    "search.send_keys(\"test\")\n",
    "search.send_keys(Keys.RETURN)\n",
    "\n",
    "# print(driver.page_source)\n",
    "\n",
    "try:\n",
    "    main = WebDriverWait(driver, 10).until(\n",
    "        EC.presence_of_element_located((By.ID, \"main\"))\n",
    "    )\n",
    "    articles = main.find_elements_by_tag_name(\"article\")\n",
    "    for article in articles:\n",
    "        header = article.find_element_by_class_name(\"entry-summary\")\n",
    "        print(header.text)\n",
    "finally:\n",
    "    driver.quit()"
   ]
  },
  {
   "cell_type": "code",
   "execution_count": 32,
   "metadata": {},
   "outputs": [
    {
     "name": "stderr",
     "output_type": "stream",
     "text": [
      "/Users/minzhou/opt/anaconda3/lib/python3.7/site-packages/ipykernel_launcher.py:3: DeprecationWarning: executable_path has been deprecated, please pass in a Service object\n",
      "  This is separate from the ipykernel package so we can avoid doing imports until\n",
      "/Users/minzhou/opt/anaconda3/lib/python3.7/site-packages/ipykernel_launcher.py:5: DeprecationWarning: find_element_by_link_text is deprecated. Please use find_element(by=By.LINK_TEXT, value=link_text) instead\n",
      "  \"\"\"\n"
     ]
    }
   ],
   "source": [
    "# page navigating & clicking elements\n",
    "\n",
    "driver = webdriver.Chrome(executable_path=DRIVER_PATH)\n",
    "driver.get(\"https://techwithtim.net\")\n",
    "link = driver.find_element_by_link_text(\"Python Programming\")\n",
    "link.click()\n",
    "\n",
    "try:\n",
    "    element = WebDriverWait(driver, 10).until(\n",
    "        EC.presence_of_element_located((By.LINK_TEXT, \"Beginner Python Tutorials\"))\n",
    "    )\n",
    "    \n",
    "    element.click()\n",
    "\n",
    "    element = WebDriverWait(driver, 10).until(\n",
    "        EC.presence_of_element_located((By.ID, \"sow-button-19310003\"))\n",
    "    )\n",
    "    element.click()\n",
    "\n",
    "    driver.back()\n",
    "    driver.back()\n",
    "    driver.back()\n",
    "    driver.forward()\n",
    "    driver.forward()\n",
    "except:\n",
    "    driver.quit()\n"
   ]
  },
  {
   "cell_type": "code",
   "execution_count": 45,
   "metadata": {},
   "outputs": [
    {
     "name": "stderr",
     "output_type": "stream",
     "text": [
      "/Users/minzhou/opt/anaconda3/lib/python3.7/site-packages/ipykernel_launcher.py:2: DeprecationWarning: executable_path has been deprecated, please pass in a Service object\n",
      "  \n",
      "/Users/minzhou/opt/anaconda3/lib/python3.7/site-packages/ipykernel_launcher.py:7: DeprecationWarning: find_element_by_* commands are deprecated. Please use find_element() instead\n",
      "  import sys\n",
      "/Users/minzhou/opt/anaconda3/lib/python3.7/site-packages/ipykernel_launcher.py:13: DeprecationWarning: find_element_by_* commands are deprecated. Please use find_element() instead\n",
      "  del sys.path[0]\n",
      "/Users/minzhou/opt/anaconda3/lib/python3.7/site-packages/ipykernel_launcher.py:14: DeprecationWarning: find_element_by_* commands are deprecated. Please use find_element() instead\n",
      "  \n"
     ]
    }
   ],
   "source": [
    "# action chains & automation\n",
    "driver = webdriver.Chrome(executable_path=DRIVER_PATH)\n",
    "driver.get(\"https://orteil.dashnet.org/cookieclicker/\")\n",
    "\n",
    "driver.implicitly_wait(5)\n",
    "\n",
    "language = driver.find_element_by_id(\"langSelect-EN\")\n",
    "language.click()\n",
    "\n",
    "time.sleep(5)\n",
    "\n",
    "# cookie = driver.find_element_by_id(\"bigCookie\")\n",
    "cookie_count = driver.find_element_by_id(\"cookies\")\n",
    "items = [driver.find_element_by_id(\"productPrice\" + str(i)) for i in range(1, -1, -1)]\n",
    "\n",
    "actions = ActionChains(driver)\n",
    "\n",
    "for i in range(50):\n",
    "    try:\n",
    "        cookie = WebDriverWait(driver, 1).until(\n",
    "            EC.presence_of_element_located((By.ID, \"bigCookie\"))\n",
    "        )\n",
    "        actions.click(cookie)\n",
    "        actions.perform()\n",
    "    except:\n",
    "        driver.quit()\n",
    "    \n",
    "    count = int(cookie_count.text.split(\" \")[0])\n",
    "    for item in items:\n",
    "        value = int(item.text)\n",
    "        if value <= count:\n",
    "            upgrade_actions = ActionChains(driver)\n",
    "            upgrade_actions.move_to_element(item)\n",
    "            upgrade_actions.click()\n",
    "            upgrade_actions.perform()"
   ]
  }
 ],
 "metadata": {
  "kernelspec": {
   "display_name": "Python 3.7.6",
   "language": "python",
   "name": "python3"
  },
  "language_info": {
   "codemirror_mode": {
    "name": "ipython",
    "version": 3
   },
   "file_extension": ".py",
   "mimetype": "text/x-python",
   "name": "python",
   "nbconvert_exporter": "python",
   "pygments_lexer": "ipython3",
   "version": "3.7.6"
  },
  "orig_nbformat": 4,
  "vscode": {
   "interpreter": {
    "hash": "6a17e3a3172cf46aaf637e4c7681713daf53374be115d411b165dfc3d728fe3c"
   }
  }
 },
 "nbformat": 4,
 "nbformat_minor": 2
}
